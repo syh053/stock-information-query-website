{
 "cells": [
  {
   "cell_type": "markdown",
   "id": "CVlegG72JDX-",
   "metadata": {
    "id": "CVlegG72JDX-"
   },
   "source": [
    "    LSTM 模型 : 新增預測 10 天後收盤價\n"
   ]
  },
  {
   "cell_type": "markdown",
   "id": "39344ed9",
   "metadata": {
    "id": "39344ed9"
   },
   "source": [
    "### 載入套件"
   ]
  },
  {
   "cell_type": "code",
   "execution_count": 3,
   "id": "bbd569df",
   "metadata": {
    "id": "bbd569df"
   },
   "outputs": [],
   "source": [
    "import matplotlib.pyplot as plt\n",
    "import numpy as np\n",
    "import pandas as pd\n",
    "import torch\n",
    "import torch.nn as nn\n",
    "import torch.optim as optim\n",
    "import torch.utils.data as data\n",
    "# from sklearn.preprocessing import StandardScaler\n",
    "from sklearn.preprocessing import MinMaxScaler\n",
    "import yfinance as yf\n",
    "from datetime import datetime, timedelta"
   ]
  },
  {
   "cell_type": "markdown",
   "id": "bef2cf31",
   "metadata": {
    "id": "bef2cf31"
   },
   "source": [
    "### 取得台積電資料"
   ]
  },
  {
   "cell_type": "code",
   "execution_count": 10,
   "id": "sukI2-SMTA0b",
   "metadata": {
    "colab": {
     "base_uri": "https://localhost:8080/",
     "height": 35
    },
    "executionInfo": {
     "elapsed": 5,
     "status": "ok",
     "timestamp": 1755614203479,
     "user": {
      "displayName": "HUA",
      "userId": "08261974590502268968"
     },
     "user_tz": -480
    },
    "id": "sukI2-SMTA0b",
    "outputId": "de693918-66ba-48bc-d80d-f37c91e08654"
   },
   "outputs": [
    {
     "data": {
      "text/plain": [
       "'2025-08-19'"
      ]
     },
     "execution_count": 10,
     "metadata": {},
     "output_type": "execute_result"
    }
   ],
   "source": [
    "# 取得日期\n",
    "today = datetime(2025, 8, 29)\n",
    "today = today - timedelta(days=10)\n",
    "today = today.strftime(\"%Y-%m-%d\")\n",
    "today"
   ]
  },
  {
   "cell_type": "code",
   "execution_count": 11,
   "id": "917f9567",
   "metadata": {
    "colab": {
     "base_uri": "https://localhost:8080/",
     "height": 423
    },
    "executionInfo": {
     "elapsed": 899,
     "status": "ok",
     "timestamp": 1755614204376,
     "user": {
      "displayName": "HUA",
      "userId": "08261974590502268968"
     },
     "user_tz": -480
    },
    "id": "917f9567",
    "outputId": "73b5ee7d-01f0-495b-f131-74e7b4fe2c5c"
   },
   "outputs": [
    {
     "data": {
      "text/html": [
       "<div>\n",
       "<style scoped>\n",
       "    .dataframe tbody tr th:only-of-type {\n",
       "        vertical-align: middle;\n",
       "    }\n",
       "\n",
       "    .dataframe tbody tr th {\n",
       "        vertical-align: top;\n",
       "    }\n",
       "\n",
       "    .dataframe thead th {\n",
       "        text-align: right;\n",
       "    }\n",
       "</style>\n",
       "<table border=\"1\" class=\"dataframe\">\n",
       "  <thead>\n",
       "    <tr style=\"text-align: right;\">\n",
       "      <th></th>\n",
       "      <th>mdate</th>\n",
       "      <th>open_d</th>\n",
       "      <th>high_d</th>\n",
       "      <th>low_d</th>\n",
       "      <th>close_d</th>\n",
       "      <th>volume</th>\n",
       "    </tr>\n",
       "  </thead>\n",
       "  <tbody>\n",
       "    <tr>\n",
       "      <th>0</th>\n",
       "      <td>2018-01-02</td>\n",
       "      <td>190.10</td>\n",
       "      <td>190.92</td>\n",
       "      <td>189.69</td>\n",
       "      <td>190.92</td>\n",
       "      <td>18055.269</td>\n",
       "    </tr>\n",
       "    <tr>\n",
       "      <th>1</th>\n",
       "      <td>2018-01-03</td>\n",
       "      <td>193.79</td>\n",
       "      <td>195.43</td>\n",
       "      <td>193.38</td>\n",
       "      <td>194.61</td>\n",
       "      <td>29308.091</td>\n",
       "    </tr>\n",
       "    <tr>\n",
       "      <th>2</th>\n",
       "      <td>2018-01-04</td>\n",
       "      <td>197.08</td>\n",
       "      <td>197.08</td>\n",
       "      <td>194.20</td>\n",
       "      <td>196.66</td>\n",
       "      <td>29096.613</td>\n",
       "    </tr>\n",
       "    <tr>\n",
       "      <th>3</th>\n",
       "      <td>2018-01-05</td>\n",
       "      <td>197.08</td>\n",
       "      <td>197.08</td>\n",
       "      <td>195.43</td>\n",
       "      <td>197.08</td>\n",
       "      <td>22438.255</td>\n",
       "    </tr>\n",
       "    <tr>\n",
       "      <th>4</th>\n",
       "      <td>2018-01-08</td>\n",
       "      <td>198.72</td>\n",
       "      <td>199.13</td>\n",
       "      <td>197.49</td>\n",
       "      <td>198.72</td>\n",
       "      <td>20233.692</td>\n",
       "    </tr>\n",
       "    <tr>\n",
       "      <th>...</th>\n",
       "      <td>...</td>\n",
       "      <td>...</td>\n",
       "      <td>...</td>\n",
       "      <td>...</td>\n",
       "      <td>...</td>\n",
       "      <td>...</td>\n",
       "    </tr>\n",
       "    <tr>\n",
       "      <th>1846</th>\n",
       "      <td>2025-08-12</td>\n",
       "      <td>1180.00</td>\n",
       "      <td>1190.00</td>\n",
       "      <td>1170.00</td>\n",
       "      <td>1180.00</td>\n",
       "      <td>28917.167</td>\n",
       "    </tr>\n",
       "    <tr>\n",
       "      <th>1847</th>\n",
       "      <td>2025-08-13</td>\n",
       "      <td>1185.00</td>\n",
       "      <td>1200.00</td>\n",
       "      <td>1185.00</td>\n",
       "      <td>1200.00</td>\n",
       "      <td>37809.952</td>\n",
       "    </tr>\n",
       "    <tr>\n",
       "      <th>1848</th>\n",
       "      <td>2025-08-14</td>\n",
       "      <td>1185.00</td>\n",
       "      <td>1190.00</td>\n",
       "      <td>1175.00</td>\n",
       "      <td>1175.00</td>\n",
       "      <td>32991.791</td>\n",
       "    </tr>\n",
       "    <tr>\n",
       "      <th>1849</th>\n",
       "      <td>2025-08-15</td>\n",
       "      <td>1175.00</td>\n",
       "      <td>1185.00</td>\n",
       "      <td>1170.00</td>\n",
       "      <td>1180.00</td>\n",
       "      <td>22231.552</td>\n",
       "    </tr>\n",
       "    <tr>\n",
       "      <th>1850</th>\n",
       "      <td>2025-08-18</td>\n",
       "      <td>1170.00</td>\n",
       "      <td>1185.00</td>\n",
       "      <td>1170.00</td>\n",
       "      <td>1180.00</td>\n",
       "      <td>18219.895</td>\n",
       "    </tr>\n",
       "  </tbody>\n",
       "</table>\n",
       "<p>1851 rows × 6 columns</p>\n",
       "</div>"
      ],
      "text/plain": [
       "           mdate   open_d   high_d    low_d  close_d     volume\n",
       "0     2018-01-02   190.10   190.92   189.69   190.92  18055.269\n",
       "1     2018-01-03   193.79   195.43   193.38   194.61  29308.091\n",
       "2     2018-01-04   197.08   197.08   194.20   196.66  29096.613\n",
       "3     2018-01-05   197.08   197.08   195.43   197.08  22438.255\n",
       "4     2018-01-08   198.72   199.13   197.49   198.72  20233.692\n",
       "...          ...      ...      ...      ...      ...        ...\n",
       "1846  2025-08-12  1180.00  1190.00  1170.00  1180.00  28917.167\n",
       "1847  2025-08-13  1185.00  1200.00  1185.00  1200.00  37809.952\n",
       "1848  2025-08-14  1185.00  1190.00  1175.00  1175.00  32991.791\n",
       "1849  2025-08-15  1175.00  1185.00  1170.00  1180.00  22231.552\n",
       "1850  2025-08-18  1170.00  1185.00  1170.00  1180.00  18219.895\n",
       "\n",
       "[1851 rows x 6 columns]"
      ]
     },
     "execution_count": 11,
     "metadata": {},
     "output_type": "execute_result"
    }
   ],
   "source": [
    "tsmc = yf.Ticker(\"2330.TW\")\n",
    "\n",
    "tsmc = tsmc.history(start=\"2018-01-01\", end=today)\n",
    "\n",
    "tsmc.reset_index(inplace=True)\n",
    "\n",
    "tsmc.drop(columns=[\"Dividends\", \"Stock Splits\"], inplace=True)\n",
    "\n",
    "tsmc.columns=[\"mdate\", \"open_d\", \"high_d\", \"low_d\", \"close_d\", \"volume\"]\n",
    "\n",
    "tsmc[\"mdate\"] = tsmc[\"mdate\"].dt.strftime(\"%Y-%m-%d\") # 整理日期格式\n",
    "tsmc[\"open_d\"] = tsmc[\"open_d\"].map(lambda x : round(x, 2))\n",
    "tsmc[\"high_d\"] = tsmc[\"high_d\"].map(lambda x : round(x, 2))\n",
    "tsmc[\"low_d\"] = tsmc[\"low_d\"].map(lambda x : round(x, 2))\n",
    "tsmc[\"close_d\"] = tsmc[\"close_d\"].map(lambda x : round(x, 2))\n",
    "tsmc[\"volume\"] = tsmc[\"volume\"].map(lambda x : round(x/1000, 3))\n",
    "\n",
    "tsmc"
   ]
  },
  {
   "cell_type": "code",
   "execution_count": 66,
   "id": "3ead8502",
   "metadata": {
    "colab": {
     "base_uri": "https://localhost:8080/"
    },
    "executionInfo": {
     "elapsed": 10,
     "status": "ok",
     "timestamp": 1755614204400,
     "user": {
      "displayName": "HUA",
      "userId": "08261974590502268968"
     },
     "user_tz": -480
    },
    "id": "3ead8502",
    "outputId": "6c162d32-8786-4203-ac41-ae9e5fc76690"
   },
   "outputs": [
    {
     "data": {
      "text/plain": [
       "(dtype('O'),\n",
       " dtype('float64'),\n",
       " dtype('float64'),\n",
       " dtype('float64'),\n",
       " dtype('float64'),\n",
       " dtype('float64'))"
      ]
     },
     "execution_count": 66,
     "metadata": {},
     "output_type": "execute_result"
    }
   ],
   "source": [
    "tsmc.loc[:, \"mdate\"].dtype, tsmc.loc[:, \"open_d\"].dtype, tsmc.loc[:, \"high_d\"].dtype, tsmc.loc[:, \"low_d\"].dtype, tsmc.loc[:, \"close_d\"].dtype, tsmc.loc[:, \"volume\"].dtype"
   ]
  },
  {
   "cell_type": "markdown",
   "id": "7529edc4",
   "metadata": {
    "id": "7529edc4"
   },
   "source": [
    "### 將資料轉為浮點數"
   ]
  },
  {
   "cell_type": "code",
   "execution_count": 188,
   "id": "d84911fd",
   "metadata": {
    "id": "d84911fd"
   },
   "outputs": [],
   "source": [
    "timeseries = tsmc[[\"close_d\", \"volume\"]].values.astype('float32')"
   ]
  },
  {
   "cell_type": "markdown",
   "id": "34b38035",
   "metadata": {
    "id": "34b38035"
   },
   "source": [
    "### 將資料標準化"
   ]
  },
  {
   "cell_type": "code",
   "execution_count": 189,
   "id": "34ad6fe8",
   "metadata": {
    "id": "34ad6fe8"
   },
   "outputs": [],
   "source": [
    "# scaler = StandardScaler() # 標準化，平均值為 0，標準差為 1。\n",
    "scaler = MinMaxScaler() # 正規化 0 ~ 1\n",
    "timeseries = scaler.fit_transform(timeseries)"
   ]
  },
  {
   "cell_type": "code",
   "execution_count": 190,
   "id": "6306ada9",
   "metadata": {},
   "outputs": [
    {
     "data": {
      "text/plain": [
       "array([[0.01358774, 0.10856541],\n",
       "       [0.01719487, 0.17622805],\n",
       "       [0.01919882, 0.17495644],\n",
       "       ...,\n",
       "       [0.9755615 , 0.19837794],\n",
       "       [0.9804492 , 0.13367718],\n",
       "       [0.9804492 , 0.10955529]], dtype=float32)"
      ]
     },
     "execution_count": 190,
     "metadata": {},
     "output_type": "execute_result"
    }
   ],
   "source": [
    "timeseries"
   ]
  },
  {
   "cell_type": "markdown",
   "id": "3cf00afb",
   "metadata": {
    "id": "3cf00afb"
   },
   "source": [
    "### 切分訓練資料和測試資料"
   ]
  },
  {
   "cell_type": "code",
   "execution_count": 191,
   "id": "e60ab5ca",
   "metadata": {
    "id": "e60ab5ca"
   },
   "outputs": [],
   "source": [
    "train_size = int(len(timeseries) * 0.95)\n",
    "train, val = timeseries[:train_size], timeseries[train_size:]"
   ]
  },
  {
   "cell_type": "code",
   "execution_count": 192,
   "id": "f27c1a2a",
   "metadata": {
    "colab": {
     "base_uri": "https://localhost:8080/"
    },
    "executionInfo": {
     "elapsed": 42,
     "status": "ok",
     "timestamp": 1755614204542,
     "user": {
      "displayName": "HUA",
      "userId": "08261974590502268968"
     },
     "user_tz": -480
    },
    "id": "f27c1a2a",
    "outputId": "b64dffef-8ab6-4af8-a859-0a497e241ac0"
   },
   "outputs": [
    {
     "data": {
      "text/plain": [
       "(1758, 93)"
      ]
     },
     "execution_count": 192,
     "metadata": {},
     "output_type": "execute_result"
    }
   ],
   "source": [
    "len(train), len(val)"
   ]
  },
  {
   "cell_type": "code",
   "execution_count": 193,
   "id": "105d42e2",
   "metadata": {},
   "outputs": [
    {
     "data": {
      "text/plain": [
       "(array([[0.01358774, 0.10856541],\n",
       "        [0.01719487, 0.17622805],\n",
       "        [0.01919882, 0.17495644],\n",
       "        [0.01960938, 0.13492008],\n",
       "        [0.02121253, 0.12166415]], dtype=float32),\n",
       " array([[0.02121253, 0.11450532],\n",
       "        [0.01679407, 0.14209332],\n",
       "        [0.0155917 , 0.18307227],\n",
       "        ...,\n",
       "        [0.71275103, 0.3070489 ],\n",
       "        [0.7458503 , 0.19360343],\n",
       "        [0.74390507, 0.14941971]], dtype=float32))"
      ]
     },
     "execution_count": 193,
     "metadata": {},
     "output_type": "execute_result"
    }
   ],
   "source": [
    "train[0 : 0 + 5], train[0 + 5 :]"
   ]
  },
  {
   "cell_type": "markdown",
   "id": "d7a31c57",
   "metadata": {
    "id": "d7a31c57"
   },
   "source": [
    "### 設定 Dataset"
   ]
  },
  {
   "cell_type": "code",
   "execution_count": 194,
   "id": "b6dc2f41",
   "metadata": {
    "id": "b6dc2f41"
   },
   "outputs": [],
   "source": [
    "def create_dataset(dataset, lookback):\n",
    "\n",
    "    X, y = [], []\n",
    "    for i in range(len(dataset)-lookback):\n",
    "        feature = dataset[i:i+lookback, :] # 特徵是五天資料的 \"open_d\", \"high_d\", \"low_d\",\"close_d\", \"volume\"\n",
    "        target = dataset[i+1:i+lookback+1][-1] # 標籤是最後一天資料的 \"close_d\", \"volume\"\n",
    "\n",
    "        X.append(feature)\n",
    "        y.append(target)\n",
    "    return torch.tensor(X), torch.tensor(y).view(-1, 2)"
   ]
  },
  {
   "cell_type": "code",
   "execution_count": 195,
   "id": "ef451cee",
   "metadata": {
    "colab": {
     "base_uri": "https://localhost:8080/"
    },
    "executionInfo": {
     "elapsed": 46,
     "status": "ok",
     "timestamp": 1755614204614,
     "user": {
      "displayName": "HUA",
      "userId": "08261974590502268968"
     },
     "user_tz": -480
    },
    "id": "ef451cee",
    "outputId": "3801db07-9122-4858-ce66-4da8a1d5b99e"
   },
   "outputs": [
    {
     "name": "stdout",
     "output_type": "stream",
     "text": [
      "torch.Size([1753, 5, 2]) torch.Size([1753, 2])\n",
      "torch.Size([88, 5, 2]) torch.Size([88, 2])\n"
     ]
    }
   ],
   "source": [
    "lookback = 5\n",
    "X_train, y_train = create_dataset(train, lookback=lookback)\n",
    "X_val, y_val = create_dataset(val, lookback=lookback)\n",
    "print(X_train.size(), y_train.size())\n",
    "print(X_val.size(), y_val.size())\n",
    "\n",
    "input_size = timeseries.shape[-1]"
   ]
  },
  {
   "cell_type": "code",
   "execution_count": 196,
   "id": "ff1a63d8",
   "metadata": {},
   "outputs": [
    {
     "data": {
      "text/plain": [
       "tensor([[0.0212, 0.1145],\n",
       "        [0.0168, 0.1421],\n",
       "        [0.0156, 0.1831],\n",
       "        ...,\n",
       "        [0.7128, 0.3070],\n",
       "        [0.7459, 0.1936],\n",
       "        [0.7439, 0.1494]])"
      ]
     },
     "execution_count": 196,
     "metadata": {},
     "output_type": "execute_result"
    }
   ],
   "source": [
    "y_train"
   ]
  },
  {
   "cell_type": "markdown",
   "id": "a9ddc86e",
   "metadata": {
    "id": "a9ddc86e"
   },
   "source": [
    "### 設定 DataLoader"
   ]
  },
  {
   "cell_type": "code",
   "execution_count": 197,
   "id": "14be80d5",
   "metadata": {
    "id": "14be80d5"
   },
   "outputs": [],
   "source": [
    "loader = data.DataLoader(data.TensorDataset(X_train, y_train), batch_size=8, shuffle=False)"
   ]
  },
  {
   "cell_type": "code",
   "execution_count": 198,
   "id": "b1b8ab67",
   "metadata": {},
   "outputs": [],
   "source": [
    "x1 = iter(loader)"
   ]
  },
  {
   "cell_type": "code",
   "execution_count": 199,
   "id": "8a94eba3",
   "metadata": {},
   "outputs": [],
   "source": [
    "first_X, first_y = next(x1)"
   ]
  },
  {
   "cell_type": "code",
   "execution_count": 200,
   "id": "a489305d",
   "metadata": {},
   "outputs": [
    {
     "data": {
      "text/plain": [
       "tensor([[0.0212, 0.1145],\n",
       "        [0.0168, 0.1421],\n",
       "        [0.0156, 0.1831],\n",
       "        [0.0172, 0.1294],\n",
       "        [0.0196, 0.1652],\n",
       "        [0.0200, 0.1304],\n",
       "        [0.0212, 0.2288],\n",
       "        [0.0264, 0.3000]])"
      ]
     },
     "execution_count": 200,
     "metadata": {},
     "output_type": "execute_result"
    }
   ],
   "source": [
    "first_y"
   ]
  },
  {
   "cell_type": "markdown",
   "id": "e40dbd10",
   "metadata": {
    "id": "e40dbd10"
   },
   "source": [
    "### 設定 device"
   ]
  },
  {
   "cell_type": "code",
   "execution_count": 201,
   "id": "58178d48",
   "metadata": {
    "colab": {
     "base_uri": "https://localhost:8080/",
     "height": 35
    },
    "executionInfo": {
     "elapsed": 18,
     "status": "ok",
     "timestamp": 1755614204716,
     "user": {
      "displayName": "HUA",
      "userId": "08261974590502268968"
     },
     "user_tz": -480
    },
    "id": "58178d48",
    "outputId": "64bb27dd-4827-44a0-ec36-cee382d7046d"
   },
   "outputs": [
    {
     "data": {
      "text/plain": [
       "'cuda'"
      ]
     },
     "execution_count": 201,
     "metadata": {},
     "output_type": "execute_result"
    }
   ],
   "source": [
    "device = \"cuda\" if torch.cuda.is_available() else \"cpu\"\n",
    "\n",
    "device"
   ]
  },
  {
   "cell_type": "code",
   "execution_count": 202,
   "id": "d71e4771",
   "metadata": {
    "id": "d71e4771"
   },
   "outputs": [],
   "source": [
    "X_train = X_train.to(device)\n",
    "y_train = y_train.to(device)\n",
    "X_val = X_val.to(device)\n",
    "y_val = y_val.to(device)"
   ]
  },
  {
   "cell_type": "markdown",
   "id": "a1ba1546",
   "metadata": {
    "id": "a1ba1546"
   },
   "source": [
    "### 設定模型"
   ]
  },
  {
   "cell_type": "code",
   "execution_count": 203,
   "id": "2e8bec91",
   "metadata": {
    "id": "2e8bec91"
   },
   "outputs": [],
   "source": [
    "class LSTM_Model(nn.Module):\n",
    "    def __init__(self):\n",
    "        super().__init__()\n",
    "        self.lstm = nn.LSTM(input_size = input_size, hidden_size=32, num_layers=2, batch_first = True)\n",
    "        self.linear = nn.Linear(32, 2)\n",
    "        self.dropout = nn.Dropout(0.1)\n",
    "    def forward(self, x):\n",
    "        x, _ = self.lstm(x)\n",
    "        x = self.dropout(x)\n",
    "        x = x[:, -1, :]\n",
    "        x = self.linear(x)\n",
    "        return x"
   ]
  },
  {
   "cell_type": "markdown",
   "id": "54bd8cac",
   "metadata": {
    "id": "54bd8cac"
   },
   "source": [
    "### 實例化模型"
   ]
  },
  {
   "cell_type": "code",
   "execution_count": 204,
   "id": "047b0946",
   "metadata": {
    "id": "047b0946"
   },
   "outputs": [],
   "source": [
    "model = LSTM_Model().to(device)"
   ]
  },
  {
   "cell_type": "markdown",
   "id": "a19c486a",
   "metadata": {
    "id": "a19c486a"
   },
   "source": [
    "### 設定 cost function 及 optimizer"
   ]
  },
  {
   "cell_type": "code",
   "execution_count": 205,
   "id": "ef7347bd",
   "metadata": {
    "id": "ef7347bd"
   },
   "outputs": [],
   "source": [
    "# optimizer = optim.Adam(model.parameters())\n",
    "# 使用SDG或Adam演算法的lstm經常會用RMSprop做為優化方向，因為，它收斂的速度會比較快，原因是RMSprop 的學習速率(learning rate)會隨著之前的梯度總和作反向的調整。\n",
    "# optimizer = optim.RMSprop(model.parameters(), lr=0.001)\n",
    "optimizer = optim.Adam(model.parameters(), lr=0.001)\n",
    "loss_fn = nn.MSELoss()"
   ]
  },
  {
   "cell_type": "markdown",
   "id": "b257761b",
   "metadata": {
    "id": "b257761b"
   },
   "source": [
    "### 訓練模型"
   ]
  },
  {
   "cell_type": "code",
   "execution_count": 206,
   "id": "975585a7",
   "metadata": {
    "colab": {
     "base_uri": "https://localhost:8080/"
    },
    "executionInfo": {
     "elapsed": 691160,
     "status": "ok",
     "timestamp": 1755614903998,
     "user": {
      "displayName": "HUA",
      "userId": "08261974590502268968"
     },
     "user_tz": -480
    },
    "id": "975585a7",
    "outputId": "23f2707b-13ae-4b9a-ba74-e3219631181f"
   },
   "outputs": [
    {
     "name": "stdout",
     "output_type": "stream",
     "text": [
      "Epoch 0: train_loss 0.1706, val_loss 0.0072\n",
      "Epoch 100: train_loss 0.0060, val_loss 0.0045\n",
      "Epoch 200: train_loss 0.0047, val_loss 0.0037\n",
      "Epoch 300: train_loss 0.0054, val_loss 0.0045\n",
      "Epoch 400: train_loss 0.0042, val_loss 0.0047\n"
     ]
    }
   ],
   "source": [
    "n_epochs = 500\n",
    "\n",
    "train_loss_array = []\n",
    "val_loss_array = []\n",
    "\n",
    "for epoch in range(n_epochs):\n",
    "    model.train()\n",
    "    for X_batch, y_batch in loader:\n",
    "        X_batch = X_batch.to(device)\n",
    "        y_batch = y_batch.to(device)\n",
    "\n",
    "        y_pred = model(X_batch)\n",
    "        loss = loss_fn(y_pred, y_batch)\n",
    "\n",
    "        optimizer.zero_grad()\n",
    "        loss.backward()\n",
    "        optimizer.step()\n",
    "\n",
    "    # 確認loss值的變化正常\n",
    "    # if epoch % 100 ==0:\n",
    "    #     print(y_pred)\n",
    "\n",
    "    # Validation\n",
    "    model.eval()\n",
    "    with torch.no_grad():\n",
    "        y_pred = model(X_train)\n",
    "        # train_rmse = np.sqrt(loss_fn(y_pred, y_train))\n",
    "        train_loss = loss_fn(y_pred, y_train).item()\n",
    "\n",
    "        y_pred = model(X_val)\n",
    "        # test_rmse = np.sqrt(loss_fn(y_pred, y_test))\n",
    "        val_loss = loss_fn(y_pred, y_val).item()\n",
    "\n",
    "        train_loss_array.append(train_loss)\n",
    "        val_loss_array.append(val_loss)\n",
    "\n",
    "    if epoch % 100 == 0:\n",
    "        print(\"Epoch %d: train_loss %.4f, val_loss %.4f\" % (epoch, train_loss, val_loss))"
   ]
  },
  {
   "cell_type": "markdown",
   "id": "85e64417",
   "metadata": {
    "id": "85e64417"
   },
   "source": [
    "### 測試模型"
   ]
  },
  {
   "cell_type": "code",
   "execution_count": 207,
   "id": "9699bf5e",
   "metadata": {
    "colab": {
     "base_uri": "https://localhost:8080/"
    },
    "executionInfo": {
     "elapsed": 19,
     "status": "ok",
     "timestamp": 1755614904006,
     "user": {
      "displayName": "HUA",
      "userId": "08261974590502268968"
     },
     "user_tz": -480
    },
    "id": "9699bf5e",
    "outputId": "dbe041a3-e3a2-45e7-85d1-c64d1ae65024"
   },
   "outputs": [
    {
     "name": "stderr",
     "output_type": "stream",
     "text": [
      "C:\\Users\\ANDY\\AppData\\Local\\Temp\\ipykernel_8784\\1790645964.py:12: DeprecationWarning: __array__ implementation doesn't accept a copy keyword, so passing copy=False failed. __array__ must implement 'dtype' and 'copy' keyword arguments.\n",
      "  train_plot[lookback:train_size] = train_pred.cpu()\n",
      "C:\\Users\\ANDY\\AppData\\Local\\Temp\\ipykernel_8784\\1790645964.py:18: DeprecationWarning: __array__ implementation doesn't accept a copy keyword, so passing copy=False failed. __array__ must implement 'dtype' and 'copy' keyword arguments.\n",
      "  test_plot[train_size+lookback:len(timeseries)] = val_pred.cpu()\n"
     ]
    }
   ],
   "source": [
    "# with torch.no_grad():\n",
    "with torch.torch.inference_mode():\n",
    "    model.eval()\n",
    "    # shift train predictions for plotting\n",
    "    # 因為timeseries包含開、高、低、收等資料，因此需要timeseries[:, -2]取得最後一項 收盤價 的欄位長度即可\n",
    "    train_plot = np.ones_like(timeseries[:, [-2, -1]]) * np.nan\n",
    "\n",
    "\n",
    "    train_pred = model(X_train)\n",
    "\n",
    "    # 取出 train_plot 資料放到 CPU 上並攤平成 \"1維陣列\"\n",
    "    train_plot[lookback:train_size] = train_pred.cpu()\n",
    "\n",
    "    # shift test predictions for plotting\n",
    "    test_plot = np.ones_like(timeseries[:, [-2, -1]]) * np.nan\n",
    "\n",
    "    val_pred =  model(X_val)\n",
    "    test_plot[train_size+lookback:len(timeseries)] = val_pred.cpu()"
   ]
  },
  {
   "cell_type": "code",
   "execution_count": 208,
   "id": "3d1ecb62",
   "metadata": {},
   "outputs": [],
   "source": [
    "train_pred_close = train_plot[:, 0]   # 收盤價\n",
    "train_pred_volume = train_plot[:, 1]  # 成交量\n",
    "test_pred_close = test_plot[:, 0]   # 收盤價\n",
    "test_pred_volume = test_plot[:, 1]  # 成交量"
   ]
  },
  {
   "cell_type": "markdown",
   "id": "b56a854b",
   "metadata": {
    "id": "b56a854b"
   },
   "source": [
    "### 畫圖"
   ]
  },
  {
   "cell_type": "code",
   "execution_count": 213,
   "id": "2ead7957",
   "metadata": {
    "colab": {
     "base_uri": "https://localhost:8080/",
     "height": 575
    },
    "executionInfo": {
     "elapsed": 971,
     "status": "ok",
     "timestamp": 1755614904978,
     "user": {
      "displayName": "HUA",
      "userId": "08261974590502268968"
     },
     "user_tz": -480
    },
    "id": "2ead7957",
    "outputId": "0dd96a49-a3d3-4fe1-866f-1571a7aa66b4"
   },
   "outputs": [
    {
     "data": {
      "image/png": "[encoded data removed]",
      "text/plain": [
       "<Figure size 1800x600 with 2 Axes>"
      ]
     },
     "metadata": {},
     "output_type": "display_data"
    }
   ],
   "source": [
    "# plot\n",
    "fig, axes = plt.subplots(2, 1, figsize=(18, 6), sharex=True, gridspec_kw={'height_ratios': [3, 2]})\n",
    "\n",
    "dates = pd.to_datetime(tsmc[\"mdate\"])\n",
    "\n",
    "axes[0].plot(dates, timeseries[:, -2], label=\"real data\", color=\"blue\")\n",
    "axes[0].plot(dates, train_pred_close, label=\"train_price_pred\", color=\"orange\")\n",
    "axes[0].plot(dates, test_pred_close, label=\"test_price_pred\", color=\"red\")\n",
    "axes[0].legend()  # 上方子圖的圖例\n",
    "\n",
    "axes[1].plot(dates, train_pred_volume, label=\"real_volume\", color=\"blue\")\n",
    "axes[1].plot(dates, train_pred_volume, label=\"train_volume_pred\", color=\"orange\")\n",
    "axes[1].plot(dates, test_pred_volume, label=\"train_volume_pred\", color=\"red\")\n",
    "axes[1].legend()  # 下方子圖的圖例\n",
    "\n",
    "# 設定 x 軸標籤每隔 10 筆顯示一次\n",
    "step = 200\n",
    "plt.xticks(dates[::step], rotation=45)  # rotation=45 斜45度避免重疊\n",
    "\n",
    "plt.show()"
   ]
  },
  {
   "cell_type": "markdown",
   "id": "1dd6be28",
   "metadata": {
    "id": "1dd6be28"
   },
   "source": [
    "### 預測未來函式"
   ]
  },
  {
   "cell_type": "code",
   "execution_count": 238,
   "id": "d7ca4e38",
   "metadata": {
    "id": "d7ca4e38"
   },
   "outputs": [],
   "source": [
    "def predict_future(model, recent_data, predict_days=10, lookback=5):\n",
    "    model.eval()\n",
    "    predictions_close = []\n",
    "    predictions_volume = []\n",
    "\n",
    "    current_input = recent_data[-lookback:].copy()  # 取最後 lookback 天資料當起始點\n",
    "\n",
    "    for _ in range(predict_days):\n",
    "        input_tensor = torch.tensor(current_input, dtype=torch.float32).unsqueeze(0).to(device)  # shape: [1, lookback, features]\n",
    "        with torch.no_grad():\n",
    "            pred = model(input_tensor).cpu().numpy()  # 預測出來是一個 scalar\n",
    "\n",
    "            pred_close = pred[0][0]\n",
    "            pred_volume = pred[0][1]\n",
    "\n",
    "        # 新的一筆資料\n",
    "        new_entry = current_input[-1].copy()\n",
    "        new_entry[0] = pred_close\n",
    "        new_entry[1] = pred_volume\n",
    "\n",
    "        # 更新 current_input 滑動窗口\n",
    "        current_input = np.vstack((current_input[1:], new_entry))\n",
    "        predictions_close.append(pred_close)\n",
    "        predictions_volume.append(pred_volume)\n",
    "\n",
    "    return predictions_close, predictions_volume"
   ]
  },
  {
   "cell_type": "markdown",
   "id": "26a5548b",
   "metadata": {
    "id": "26a5548b"
   },
   "source": [
    "### 執行預測"
   ]
  },
  {
   "cell_type": "code",
   "execution_count": 239,
   "id": "37d45adb",
   "metadata": {
    "colab": {
     "base_uri": "https://localhost:8080/"
    },
    "executionInfo": {
     "elapsed": 5,
     "status": "ok",
     "timestamp": 1755618807319,
     "user": {
      "displayName": "HUA",
      "userId": "08261974590502268968"
     },
     "user_tz": -480
    },
    "id": "37d45adb",
    "outputId": "7396e3b8-e78f-4d38-d5db-b96b1affc21a"
   },
   "outputs": [
    {
     "name": "stdout",
     "output_type": "stream",
     "text": [
      "未來 10 天預測收盤價 (正規化後): [np.float32(0.9797543), np.float32(0.9720471), np.float32(0.9611575), np.float32(0.9845229), np.float32(0.9661311), np.float32(0.962078), np.float32(0.97305626), np.float32(1.0003026), np.float32(0.9429047), np.float32(0.9452584)]\n"
     ]
    }
   ],
   "source": [
    "# recent_data 是完整 timeseries 的最後一段（例如 validation 結束後的資料）\n",
    "recent_data = timeseries[-150:]  # 或者用 train+val 看你想從哪段開始預測\n",
    "\n",
    "pred_close, pred_volume = predict_future(model, recent_data, predict_days=10, lookback=lookback)\n",
    "print(\"未來 10 天預測收盤價 (正規化後):\", pred_close)"
   ]
  },
  {
   "cell_type": "code",
   "execution_count": 240,
   "id": "4faa3951",
   "metadata": {},
   "outputs": [
    {
     "name": "stdout",
     "output_type": "stream",
     "text": [
      "未來 10 天預測收盤價 (正規化後): [np.float32(0.9797543), np.float32(0.9720471), np.float32(0.9611575), np.float32(0.9845229), np.float32(0.9661311), np.float32(0.962078), np.float32(0.97305626), np.float32(1.0003026), np.float32(0.9429047), np.float32(0.9452584)]\n"
     ]
    }
   ],
   "source": [
    "print(\"未來 10 天預測收盤價 (正規化後):\", pred_close)"
   ]
  },
  {
   "cell_type": "code",
   "execution_count": 241,
   "id": "b69e5043",
   "metadata": {},
   "outputs": [
    {
     "name": "stdout",
     "output_type": "stream",
     "text": [
      "未來 10 天預測成交量 (正規化後): [np.float32(0.19498979), np.float32(0.16997136), np.float32(0.20356312), np.float32(0.2840262), np.float32(0.2920672), np.float32(0.40319628), np.float32(0.42336512), np.float32(0.41035283), np.float32(0.24397801), np.float32(0.2283323)]\n"
     ]
    }
   ],
   "source": [
    "print(\"未來 10 天預測成交量 (正規化後):\", pred_volume)"
   ]
  },
  {
   "cell_type": "markdown",
   "id": "2599241a",
   "metadata": {
    "id": "2599241a"
   },
   "source": [
    "### 將預測值還原"
   ]
  },
  {
   "cell_type": "code",
   "execution_count": 246,
   "id": "4cefb0ae",
   "metadata": {
    "colab": {
     "base_uri": "https://localhost:8080/"
    },
    "executionInfo": {
     "elapsed": 24,
     "status": "ok",
     "timestamp": 1755618342257,
     "user": {
      "displayName": "HUA",
      "userId": "08261974590502268968"
     },
     "user_tz": -480
    },
    "id": "4cefb0ae",
    "outputId": "fb39d295-d772-4c30-c174-2815741c1913"
   },
   "outputs": [
    {
     "name": "stdout",
     "output_type": "stream",
     "text": [
      "未來 10 天預測收盤價 (實際值): [np.float64(1179.2891056442727), np.float64(1171.4047549521422), np.float64(1160.2649221647994), np.float64(1184.167237427968), np.float64(1165.3528057495012), np.float64(1161.20654921798), np.float64(1172.4371118541303), np.float64(1200.3095287205913), np.float64(1141.5926826956193), np.float64(1144.000438253218)]\n"
     ]
    }
   ],
   "source": [
    "# 只還原 close_d，其他欄位補上最後一筆即可\n",
    "last_row = recent_data[-1].copy()\n",
    "inv_preds = []\n",
    "\n",
    "for pred in pred_close:\n",
    "    row = last_row.copy()\n",
    "    row[0] = pred  # 把預測的 close_d 塞進去\n",
    "    inv = scaler.inverse_transform([row])[0]\n",
    "    inv_preds.append(inv[0])  # 還原出來的 close_d\n",
    "\n",
    "print(\"未來 10 天預測收盤價 (實際值):\", inv_preds)"
   ]
  },
  {
   "cell_type": "markdown",
   "id": "77f77ab6",
   "metadata": {
    "id": "77f77ab6"
   },
   "source": [
    "### 畫圖與實際資料比較"
   ]
  },
  {
   "cell_type": "code",
   "execution_count": null,
   "id": "733854a9",
   "metadata": {},
   "outputs": [
    {
     "data": {
      "text/plain": [
       "'ChineseFont.ttf'"
      ]
     },
     "execution_count": 181,
     "metadata": {},
     "output_type": "execute_result"
    }
   ],
   "source": [
    "import wget\n",
    "\n",
    "wget.download(\"https://github.com/syh053/chinese_font_files/raw/refs/heads/main/ChineseFont.ttf\")"
   ]
  },
  {
   "cell_type": "code",
   "execution_count": 182,
   "id": "e0d87204",
   "metadata": {
    "id": "e0d87204"
   },
   "outputs": [],
   "source": [
    "import matplotlib as mpl\n",
    "from matplotlib.font_manager import fontManager\n",
    "\n",
    "fontManager.addfont(\"ChineseFont.ttf\")\n",
    "mpl.rc(\"font\", family=\"ChineseFont\")"
   ]
  },
  {
   "cell_type": "code",
   "execution_count": 248,
   "id": "Vl4Yms9cZeOc",
   "metadata": {
    "id": "Vl4Yms9cZeOc"
   },
   "outputs": [],
   "source": [
    "days_to_extend = 10\n",
    "\n",
    "x = (tsmc[\"mdate\"].to_numpy())[-110:]\n",
    "\n",
    "# 取得今天日期\n",
    "today = datetime.today().date()+timedelta(days=1)\n",
    "\n",
    "# 轉換原始 list 最後一個日期為 date\n",
    "last_date = datetime.strptime(x[-1], '%Y-%m-%d').date()\n",
    "\n",
    "# 從 last_date 的下一天開始延續\n",
    "current_date = last_date + timedelta(days=1)\n",
    "\n",
    "new_dates = []\n",
    "\n",
    "while len(new_dates) < 10:\n",
    "    if current_date.weekday() < 5:  # 0~4 = Monday~Friday\n",
    "        new_dates.append(current_date.strftime('%Y-%m-%d'))\n",
    "    current_date += timedelta(days=1)\n",
    "\n",
    "new_dates = np.array(new_dates)"
   ]
  },
  {
   "cell_type": "code",
   "execution_count": 249,
   "id": "a7963bf5",
   "metadata": {
    "colab": {
     "base_uri": "https://localhost:8080/",
     "height": 514
    },
    "executionInfo": {
     "elapsed": 269,
     "status": "ok",
     "timestamp": 1755618346698,
     "user": {
      "displayName": "HUA",
      "userId": "08261974590502268968"
     },
     "user_tz": -480
    },
    "id": "a7963bf5",
    "outputId": "98ef74c3-36df-4be0-f685-0a5dedb3a637"
   },
   "outputs": [
    {
     "data": {
      "image/png": "[encoded data removed]",
      "text/plain": [
       "<Figure size 1200x500 with 1 Axes>"
      ]
     },
     "metadata": {},
     "output_type": "display_data"
    }
   ],
   "source": [
    "# 用於畫圖時與實際資料做銜接\n",
    "real_close = scaler.inverse_transform(timeseries)[-110:, -2]  # 最近 30 天的真實收盤價\n",
    "\n",
    "inv_preds = np.insert(inv_preds, 0, real_close[-1])\n",
    "new_dates = np.insert(new_dates, 0, x[-1])\n",
    "\n",
    "plt.figure(figsize=(12,5))\n",
    "plt.plot(x, real_close, label=\"過去收盤價\")\n",
    "plt.plot(new_dates, inv_preds, label=\"預測未來收盤價\")\n",
    "\n",
    "plt.xticks(x[::10], rotation=45)\n",
    "\n",
    "plt.legend()\n",
    "plt.title(\"預測未來10天股價\")\n",
    "plt.show()"
   ]
  },
  {
   "cell_type": "markdown",
   "id": "cc07321a",
   "metadata": {},
   "source": [
    "### 儲存模型"
   ]
  },
  {
   "cell_type": "code",
   "execution_count": 250,
   "id": "d47229b1",
   "metadata": {},
   "outputs": [],
   "source": [
    "torch.save(obj=model.state_dict(), f=\"stock_pred.pth\")"
   ]
  }
 ],
 "metadata": {
  "colab": {
   "provenance": [
    {
     "file_id": "1g91g8ns7iQxCZeNYOkEwKlpSyN6z2s3Z",
     "timestamp": 1755687572937
    }
   ],
   "toc_visible": true
  },
  "kernelspec": {
   "display_name": ".venv",
   "language": "python",
   "name": "python3"
  },
  "language_info": {
   "codemirror_mode": {
    "name": "ipython",
    "version": 3
   },
   "file_extension": ".py",
   "mimetype": "text/x-python",
   "name": "python",
   "nbconvert_exporter": "python",
   "pygments_lexer": "ipython3",
   "version": "3.9.13"
  }
 },
 "nbformat": 4,
 "nbformat_minor": 5
}
